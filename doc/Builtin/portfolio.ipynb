{
  "cells": [
    {
      "cell_type": "markdown",
      "metadata": {},
      "source": [
        "\n# Distributionally Robust Portfolio optimization\n\nThe objective and instances are based on [Bertsimas et al. (2018), Sec. 7.5] (for the original robust portfolio problem) and [Esfahani et al. (2018), Sec. 7] for the WDRO counterpart.\n\nWe consider a market of m = 10 assets whose yearly returns are modeled as the sum of i) a common risk factor following a normal distribution of mean 0 and variance 0.02; and ii) a specific factor following a normal distribution of mean 0.03*i and variance 0.025*i for asset i (i=1,..,m).\n\nWe solve the WDRO version of the portfolio optimization problem\n\n\\begin{align}\\mathbb{E}[ - \\langle x ; \\xi \\rangle ] + \\eta \\mathrm{CVar}_\\alpha[- \\langle x ; \\xi \\rangle]\\end{align}\n\nwhich amounts to using the following loss function\n\n\\begin{align}\\ell(x,\\tau;\\xi) =  - \\langle x ; \\xi \\rangle + \\eta \\tau + \\frac{1}{\\alpha} \\max( - \\langle x ; \\xi \\rangle - \\tau ; 0)\\end{align}\n\nwhere $\\tau$ is an extra real parameter accounting for the threshold of the CVaR (see [Rockafellar and Uryasev (2000)]). The parameter $x$ is constrained to live in the simplex (This is encoded in the constraints of the problem in [Esfahani et al. (2018)] and by an exponential reparametrization for the entropy-regularized version). \n\nWe set the confidence level $\\alpha$ of the CVaR to 0.2 and the robustness coefficient $\\eta$ to 10.\n"
      ]
    },
    {
      "cell_type": "code",
      "execution_count": null,
      "metadata": {
        "collapsed": false
      },
      "outputs": [],
      "source": [
        "import numpy as np\nimport matplotlib.pyplot as plt\nfrom skwdro.operations_research._portfolio import Portfolio\n\n\n## PROBLEM SETUP\nN = 30 # Number of observations\nm = 10  # Number of assets\n\ncommon_var = 0.02               # Variance of the common part\nspecific_mean_factor = 0.03     # Mean factor of the common part\nspecific_var_factor  = 0.025    # Variance factor of the specific part\n\npsi = np.random.randn(N, 1) * np.sqrt(common_var)\nzeta = np.random.randn(N, m) * np.sqrt(specific_var_factor) + specific_mean_factor * np.arange(1,m+1)[None, :]\nreturns_by_asset = psi + zeta\n\n## RESOLUTION FOR DIFFERENT RADII\ntested_radii = np.logspace(-3, 0, 10)\n\npbrs = [Portfolio(rho = i, alpha=.2, eta=10.).fit(returns_by_asset) for i in tested_radii]\n\n\ndata = np.vstack([m.coef_ for m in pbrs]).T\ndata = data[np.argsort(data[:, -1]), :]"
      ]
    },
    {
      "cell_type": "markdown",
      "metadata": {},
      "source": [
        "## Robustness illustration\n\nWe plot the portfolio repartition for different values of the robustness radius. For small values of $\\rho$, the portfolio is concentrated on the most rewarding assets. Over a critical radius, the WDRO portfolio choice is equally divided among all assets which is the most robust strategy (regardless of the assets payoffs).\n\n"
      ]
    },
    {
      "cell_type": "code",
      "execution_count": null,
      "metadata": {
        "collapsed": false
      },
      "outputs": [],
      "source": [
        "## Plotting\nfig, ax = plt.subplots()\n_ = plt.stackplot([m.rho for m in pbrs], data)\nplt.xlabel(\"Robustness radius\")\nplt.xlim([np.min(tested_radii),np.max(tested_radii)])\nax.set_xscale('log')\nplt.ylabel(\"Portfolio repartition\")\nplt.ylim([0,1])\n\nplt.show()"
      ]
    },
    {
      "cell_type": "markdown",
      "metadata": {},
      "source": [
        "## References\n\n[Bertsimas et al. (2018)] Bertsimas, Dimitris, Vishal Gupta, and Nathan Kallus. \"Robust sample average approximation.\" Mathematical Programming 171 (2018): 217-282.\n\n[Esfahani et al. (2018)] Mohajerin Esfahani, Peyman, and Daniel Kuhn. \"Data-driven distributionally robust optimization using the Wasserstein metric: Performance guarantees and tractable reformulations.\" Mathematical Programming 171.1 (2018): 115-166.\n\n[Rockafellar and Uryasev (2000)] Rockafellar, R. Tyrrell, and Stanislav Uryasev. \"Optimization of conditional value-at-risk.\" Journal of risk 2 (2000): 21-42.\n"
      ]
    }
  ],
  "metadata": {
    "kernelspec": {
      "display_name": "Python 3",
      "language": "python",
      "name": "python3"
    },
    "language_info": {
      "codemirror_mode": {
        "name": "ipython",
        "version": 3
      },
      "file_extension": ".py",
      "mimetype": "text/x-python",
      "name": "python",
      "nbconvert_exporter": "python",
      "pygments_lexer": "ipython3",
      "version": "3.11.6"
    }
  },
  "nbformat": 4,
  "nbformat_minor": 0
}